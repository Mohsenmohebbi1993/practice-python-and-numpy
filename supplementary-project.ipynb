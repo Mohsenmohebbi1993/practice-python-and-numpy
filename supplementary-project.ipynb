{
 "cells": [
  {
   "cell_type": "markdown",
   "metadata": {},
   "source": [
    "# Project Overview\n",
    "\n",
    "## Part 1\n",
    "\n",
    "Imagine you are part of a team developing a new scientific computing library. Before integrating Numpy, your team wants to ensure that you understand how fundamental operations can be performed manually. This understanding will help in optimizing and troubleshooting when integrating more complex operations in the future. You will implement 20 essential Numpy functions from scratch and then compare their outputs with the results obtained from Numpy's built-in functions.\n",
    "\n",
    "\n",
    "### Instructions\n",
    "For each Numpy function, you will:\n",
    "\n",
    "- Implement the function using basic Python constructs.\n",
    "- Implement the function using Numpy.\n",
    "- Compare the outputs of both implementations to ensure they match.\n",
    "\n",
    "\n",
    "List of Numpy Functions\n",
    "- np.add\n",
    "- np.subtract\n",
    "- np.multiply\n",
    "- np.divide\n",
    "- np.power\n",
    "- np.mod\n",
    "- np.sqrt\n",
    "- np.sum\n",
    "- np.mean\n",
    "- np.median\n",
    "- np.std\n",
    "- np.var\n",
    "- np.min\n",
    "- np.max\n",
    "- np.argmin\n",
    "- np.argmax\n",
    "- np.dot\n",
    "- np.cross\n",
    "- np.sort\n",
    "- np.concatenate"
   ]
  },
  {
   "cell_type": "markdown",
   "metadata": {},
   "source": [
    "make a env \n",
    "\n",
    "python -m venv practicePython\n",
    "\n",
    "practicePython\\Scripts\\activate\n"
   ]
  },
  {
   "cell_type": "code",
   "execution_count": 10,
   "metadata": {},
   "outputs": [],
   "source": [
    "import numpy as np"
   ]
  },
  {
   "cell_type": "code",
   "execution_count": 11,
   "metadata": {},
   "outputs": [
    {
     "name": "stdout",
     "output_type": "stream",
     "text": [
      "Manual Addition Result: [5, 7, 9]\n",
      "Numpy Addition Result: [5 7 9]\n"
     ]
    }
   ],
   "source": [
    "def manual_addition(list1: list, list2: list)-> list:\n",
    "    \"\"\" manual_addition\n",
    "    list1 : type -> list\n",
    "    list2 : type -> list\n",
    "    return: type -> list\n",
    "    \"\"\"\n",
    "    result = []\n",
    "    for i in range (len(list1)):\n",
    "        result.append(list1[i] + list2[i])\n",
    "    return result\n",
    "\n",
    "def numpy_addition(array1, array2):\n",
    "    \"\"\" manual_addition\n",
    "    array1 : dtype -> array\n",
    "    array2 : dtype -> array\n",
    "    return: dtype -> array\n",
    "    \"\"\"\n",
    "    return array1 + array2\n",
    "\n",
    "list1 = [1, 2, 3]\n",
    "list2 = [4, 5, 6]\n",
    "array1 = np.array(list1)\n",
    "array2 = np.array(list2)\n",
    "\n",
    "manual_result = manual_addition(list1, list2)\n",
    "numpy_result = numpy_addition(array1, array2)\n",
    "\n",
    "print(f\"Manual Addition Result: {manual_result}\")\n",
    "print(f\"Numpy Addition Result: {numpy_result}\")"
   ]
  },
  {
   "cell_type": "code",
   "execution_count": 12,
   "metadata": {},
   "outputs": [
    {
     "name": "stdout",
     "output_type": "stream",
     "text": [
      "Manual Subtraction Result: [-3, -3, -3]\n",
      "Numpy Subtraction Result: [-3 -3 -3]\n"
     ]
    }
   ],
   "source": [
    "def manual_subtraction(list1: list, list2: list)-> list:\n",
    "    \"\"\" manual_subtraction\n",
    "    list1 : type -> list\n",
    "    list2 : type -> list\n",
    "    return: type -> list\n",
    "    \"\"\"\n",
    "    result = []\n",
    "    for i in range (len(list1)):\n",
    "        result.append(list1[i] - list2[i])\n",
    "    return result\n",
    "\n",
    "def numpy_subtraction(array1, array2):\n",
    "    return array1 - array2\n",
    "\n",
    "manual_result = manual_subtraction(list1, list2)\n",
    "numpy_result = numpy_subtraction(array1, array2)\n",
    "\n",
    "print(f\"Manual Subtraction Result: {manual_result}\")\n",
    "print(f\"Numpy Subtraction Result: {numpy_result}\")"
   ]
  },
  {
   "cell_type": "code",
   "execution_count": 13,
   "metadata": {},
   "outputs": [
    {
     "name": "stdout",
     "output_type": "stream",
     "text": [
      "Manual Multiplication Result: [4, 10, 18]\n",
      "Numpy Multiplication Result: [ 4 10 18]\n"
     ]
    }
   ],
   "source": [
    "def manual_multiplication(list1: list, list2: list)-> list:\n",
    "    \"\"\" manual_multiplication\n",
    "    list1 : type -> list\n",
    "    list2 : type -> list\n",
    "    return: type -> list\n",
    "    \"\"\"\n",
    "    result = []\n",
    "    for i in range (len(list1)):\n",
    "        result.append(list1[i] * list2[i])\n",
    "    return result\n",
    "\n",
    "def numpy_multiplication(array1, array2):\n",
    "    return array1 * array2\n",
    "\n",
    "manual_result = manual_multiplication(list1, list2)\n",
    "numpy_result = numpy_multiplication(array1, array2)\n",
    "\n",
    "print(f\"Manual Multiplication Result: {manual_result}\")\n",
    "print(f\"Numpy Multiplication Result: {numpy_result}\")"
   ]
  },
  {
   "cell_type": "code",
   "execution_count": 14,
   "metadata": {},
   "outputs": [
    {
     "name": "stdout",
     "output_type": "stream",
     "text": [
      "Manual Division Result: [0.25, 0.4, 0.5]\n",
      "Numpy Division Result: [0.25 0.4  0.5 ]\n"
     ]
    }
   ],
   "source": [
    "def manual_division(list1: list, list2: list)->list:\n",
    "    \"\"\" manual_division\n",
    "    list1 : type -> list\n",
    "    list2 : type -> list\n",
    "    return: type -> list\n",
    "    \"\"\"\n",
    "    result = []\n",
    "    for i in range (len(list1)):\n",
    "        result.append(list1[i] / list2[i])\n",
    "    return result\n",
    "\n",
    "def numpy_division(array1, array2):\n",
    "    return array1 / array2\n",
    "\n",
    "manual_result = manual_division(list1, list2)\n",
    "numpy_result = numpy_division(array1, array2)\n",
    "\n",
    "print(f\"Manual Division Result: {manual_result}\")\n",
    "print(f\"Numpy Division Result: {numpy_result}\")"
   ]
  },
  {
   "cell_type": "code",
   "execution_count": 15,
   "metadata": {},
   "outputs": [
    {
     "name": "stdout",
     "output_type": "stream",
     "text": [
      "Manual Power Result: [1, 32, 729]\n",
      "Numpy Power Result: [  1  32 729]\n"
     ]
    }
   ],
   "source": [
    "def manual_power(list1: list, list2: list)-> list:\n",
    "    result = []\n",
    "    for i in range (len(list1)):\n",
    "        result.append(list1[i] ** list2[i])\n",
    "    return result\n",
    "\n",
    "def numpy_power(array1, array2):\n",
    "    # return array1 ** array2\n",
    "    return np.power(array1, array2)\n",
    "\n",
    "manual_result = manual_power(list1, list2)\n",
    "numpy_result = numpy_power(array1, array2)\n",
    "\n",
    "#list1 = [1, 2, 3]\n",
    "#list2 = [4, 5, 6]\n",
    "\n",
    "print(f\"Manual Power Result: {manual_result}\")\n",
    "print(f\"Numpy Power Result: {numpy_result}\")"
   ]
  },
  {
   "cell_type": "code",
   "execution_count": 16,
   "metadata": {},
   "outputs": [
    {
     "name": "stdout",
     "output_type": "stream",
     "text": [
      "Manual Modulo Result: [1, 2, 3]\n",
      "Numpy Modulo Result: [1 2 3]\n",
      "Manual Modulo Result list 2 % list 1: [0, 1, 0]\n",
      "Numpy Modulo Result list 2 % list 1: [0 1 0]\n"
     ]
    }
   ],
   "source": [
    "def manual_modulo(list1: list, list2: list):\n",
    "    result = []\n",
    "    for i in range (len(list1)):\n",
    "        result.append(list1[i] % list2[i])\n",
    "    return result\n",
    "\n",
    "def numpy_modulo(array1, array2):\n",
    "    # return array1 % array2\n",
    "    return np.mod(array1,array2)\n",
    "\n",
    "manual_result = manual_modulo(list1, list2)\n",
    "numpy_result = numpy_modulo(array1, array2)\n",
    "\n",
    "#list1 = [1, 2, 3]\n",
    "#list2 = [4, 5, 6]\n",
    "\n",
    "print(f\"Manual Modulo Result: {manual_result}\")\n",
    "print(f\"Numpy Modulo Result: {numpy_result}\")\n",
    "\n",
    "#-------------------------------------------------\n",
    "\n",
    "manual_result = manual_modulo(list2, list1)\n",
    "numpy_result = numpy_modulo(array2, array1)\n",
    "\n",
    "print(f\"Manual Modulo Result list 2 % list 1: {manual_result}\")\n",
    "print(f\"Numpy Modulo Result list 2 % list 1: {numpy_result}\")"
   ]
  },
  {
   "cell_type": "code",
   "execution_count": 17,
   "metadata": {},
   "outputs": [
    {
     "name": "stdout",
     "output_type": "stream",
     "text": [
      "Manual Square Root Result: [1.0, 1.4142135623730951, 1.7320508075688772]\n",
      "Numpy Square Root Result: [1.         1.41421356 1.73205081]\n"
     ]
    }
   ],
   "source": [
    "# aqrt A = value ** (1/A)\n",
    "def manual_sqrt(list1: list):\n",
    "    result = []\n",
    "    for i in range (len(list1)):\n",
    "        result.append(list1[i] ** (1/2))\n",
    "    return result\n",
    "\n",
    "def numpy_sqrt(array1):\n",
    "    # return array1 ** (1/2)\n",
    "    return np.sqrt(array1)\n",
    "\n",
    "\n",
    "manual_result = manual_sqrt(list1)\n",
    "numpy_result = numpy_sqrt(array1)\n",
    "\n",
    "print(f\"Manual Square Root Result: {manual_result}\")\n",
    "print(f\"Numpy Square Root Result: {numpy_result}\")"
   ]
  },
  {
   "cell_type": "code",
   "execution_count": 18,
   "metadata": {},
   "outputs": [
    {
     "name": "stdout",
     "output_type": "stream",
     "text": [
      "Manual Sum Result: 6\n",
      "Numpy Sum Result: 6\n"
     ]
    }
   ],
   "source": [
    "def manual_sum(list1: list)->float:\n",
    "    result = 0\n",
    "    for i in range (len(list1)):\n",
    "        result += list1[i]\n",
    "    return result\n",
    "\n",
    "def numpy_sum(array1: float):\n",
    "    return np.sum(array1)\n",
    "\n",
    "manual_result = manual_sum(list1)\n",
    "numpy_result = numpy_sum(array1)\n",
    "\n",
    "print(f\"Manual Sum Result: {manual_result}\")\n",
    "print(f\"Numpy Sum Result: {numpy_result}\")"
   ]
  },
  {
   "cell_type": "code",
   "execution_count": 19,
   "metadata": {},
   "outputs": [
    {
     "name": "stdout",
     "output_type": "stream",
     "text": [
      "Manual Mean Result: 2.0\n",
      "Numpy Mean Result: 2.0\n"
     ]
    }
   ],
   "source": [
    "def manual_mean(list1: list):\n",
    "    \"\"\" manual_mean\n",
    "    list1 : type -> list\n",
    "    return: type -> float\n",
    "    \"\"\"\n",
    "    total = 0\n",
    "    for i in range (len(list1)):\n",
    "        total += list1[i]\n",
    "    return total / len(list1)\n",
    "# ------------ or -------------\n",
    "# def manual_mean(list1: list):\n",
    "#     result = 0\n",
    "#     return manual_sum(list1)/len(list1)\n",
    "\n",
    "def numpy_mean(array1):\n",
    "    \"\"\" numpy_mean\n",
    "    array1 : dtype -> array\n",
    "    return: dtype -> float64\n",
    "    \"\"\"\n",
    "    return np.mean(array1)\n",
    "\n",
    "manual_result = manual_mean(list1)\n",
    "numpy_result = numpy_mean(array1)\n",
    "\n",
    "print(f\"Manual Mean Result: {manual_result}\")\n",
    "print(f\"Numpy Mean Result: {numpy_result}\")"
   ]
  },
  {
   "cell_type": "code",
   "execution_count": 20,
   "metadata": {},
   "outputs": [
    {
     "name": "stdout",
     "output_type": "stream",
     "text": [
      "Manual Median Result: 2\n",
      "Numpy Median Result: 2.0\n"
     ]
    }
   ],
   "source": [
    "def manual_median(list1):\n",
    "    \"\"\"manual_median\n",
    "    list1: type -> list\n",
    "    return: type -> int\n",
    "    \"\"\"\n",
    "    a = len(list1)%2\n",
    "    if a != 0:\n",
    "        b= list1[len(list1)%2]\n",
    "    else:\n",
    "        a1= list1 [(len(list1)//2) -1]\n",
    "        a2=list1 [len(list1)//2]\n",
    "        b = (a1+a2)/2\n",
    "    return b\n",
    "def numpy_median(array1):\n",
    "    return np.median(array1)\n",
    "\n",
    "manual_result = manual_median(list1)\n",
    "numpy_result = numpy_median(array1)\n",
    "\n",
    "print(f\"Manual Median Result: {manual_result}\")\n",
    "print(f\"Numpy Median Result: {numpy_result}\")"
   ]
  },
  {
   "cell_type": "code",
   "execution_count": 21,
   "metadata": {},
   "outputs": [
    {
     "name": "stdout",
     "output_type": "stream",
     "text": [
      "Manual Standard Deviation Result: 0.816496580927726\n",
      "Numpy Standard Deviation Result: 0.816496580927726\n"
     ]
    }
   ],
   "source": [
    "def manual_std(list1):\n",
    "    \"\"\"manual_std\n",
    "    find mean\n",
    "    return Standard deviation: type -> float\n",
    "    \"\"\"\n",
    "    total_power2=0\n",
    "    mean_list = manual_mean(list1)\n",
    "    for i in range(len(list1)):\n",
    "        total_power2+=((list1[i]-mean_list)**2)\n",
    "    return (total_power2/len(list1))**(1/2)\n",
    "\n",
    "def numpy_std(array1):\n",
    "    return np.std(array1)\n",
    "\n",
    "manual_result = manual_std(list1)\n",
    "numpy_result = numpy_std(array1)\n",
    "\n",
    "print(f\"Manual Standard Deviation Result: {manual_result}\")\n",
    "print(f\"Numpy Standard Deviation Result: {numpy_result}\")"
   ]
  },
  {
   "cell_type": "code",
   "execution_count": 22,
   "metadata": {},
   "outputs": [
    {
     "name": "stdout",
     "output_type": "stream",
     "text": [
      "Manual Variance Result: 0.6666666666666666\n",
      "Numpy Variance Result: 0.6666666666666666\n"
     ]
    }
   ],
   "source": [
    "def manual_variance(list1):\n",
    "    \"\"\"manual_variance\n",
    "    in the first find mean\n",
    "    return variance: type -> float\n",
    "    \"\"\"\n",
    "    total_power2=0\n",
    "    mean_list = manual_mean(list1)\n",
    "    for i in range(len(list1)):\n",
    "        total_power2+=((list1[i]-mean_list)**2)\n",
    "    return total_power2/len(list1)\n",
    "\n",
    "#-----------or -------------------\n",
    "# def manual_variance(list1):\n",
    "#     total_power2=0\n",
    "#     mean_list = manual_mean(list1)\n",
    "#     return manual_std(list1)**2\n",
    "\n",
    "\n",
    "def numpy_variance(array1):\n",
    "    return np.var(array1)\n",
    "\n",
    "manual_result = manual_variance(list1)\n",
    "numpy_result = numpy_variance(array1)\n",
    "\n",
    "print(f\"Manual Variance Result: {manual_result}\")\n",
    "print(f\"Numpy Variance Result: {numpy_result}\")"
   ]
  },
  {
   "cell_type": "code",
   "execution_count": 23,
   "metadata": {},
   "outputs": [
    {
     "name": "stdout",
     "output_type": "stream",
     "text": [
      "Manual Minimum Result: 1\n",
      "Numpy Minimum Result: 1\n"
     ]
    }
   ],
   "source": [
    "def manual_min(list1):\n",
    "    minimum= list1[0]\n",
    "    for i in range(len(list1)):\n",
    "        if minimum > list1[i]:\n",
    "            minimum =list1[i]\n",
    "    return minimum\n",
    "\n",
    "#--------- or -----------\n",
    "# def manual_min(list1):\n",
    "#     return min(list1)\n",
    "\n",
    "def numpy_min(array1):\n",
    "    return np.min(array1)\n",
    "\n",
    "manual_result = manual_min(list1)\n",
    "numpy_result = numpy_min(array1)\n",
    "\n",
    "print(f\"Manual Minimum Result: {manual_result}\")\n",
    "print(f\"Numpy Minimum Result: {numpy_result}\")"
   ]
  },
  {
   "cell_type": "code",
   "execution_count": 24,
   "metadata": {},
   "outputs": [
    {
     "name": "stdout",
     "output_type": "stream",
     "text": [
      "Manual Maximum Result: 3\n",
      "Numpy Maximum Result: 3\n"
     ]
    }
   ],
   "source": [
    "def manual_max(list1):\n",
    "    maximum = list1[0]\n",
    "    for i in range(len(list1)):\n",
    "        if maximum < list1[i]:\n",
    "            maximum = list1[i]\n",
    "    return maximum\n",
    "\n",
    "#--------- or -----------\n",
    "# def manual_max(list1):\n",
    "#     return max(list1)\n",
    "\n",
    "def numpy_max(array1):\n",
    "    return np.max(array1)\n",
    "\n",
    "manual_result = manual_max(list1)\n",
    "numpy_result = numpy_max(array1)\n",
    "\n",
    "print(f\"Manual Maximum Result: {manual_result}\")\n",
    "print(f\"Numpy Maximum Result: {numpy_result}\")"
   ]
  },
  {
   "cell_type": "code",
   "execution_count": 25,
   "metadata": {},
   "outputs": [
    {
     "name": "stdout",
     "output_type": "stream",
     "text": [
      "Manual Argmin Result: 0\n",
      "Numpy Argmin Result: 0\n"
     ]
    }
   ],
   "source": [
    "def manual_argmin(list1):\n",
    "    minimum= list1[0]\n",
    "    min_index=0\n",
    "    for i in range(len(list1)):\n",
    "        if minimum > list1[i]:\n",
    "            minimum = list1[i]\n",
    "            min_index=i\n",
    "    return min_index\n",
    "\n",
    "def numpy_argmin(array1):\n",
    "    return np.argmin(array1)\n",
    "\n",
    "manual_result = manual_argmin(list1)\n",
    "numpy_result = numpy_argmin(array1)\n",
    "\n",
    "print(f\"Manual Argmin Result: {manual_result}\")\n",
    "print(f\"Numpy Argmin Result: {numpy_result}\")"
   ]
  },
  {
   "cell_type": "code",
   "execution_count": 26,
   "metadata": {},
   "outputs": [
    {
     "name": "stdout",
     "output_type": "stream",
     "text": [
      "Manual Argmax Result: 2\n",
      "Numpy Argmax Result: 2\n"
     ]
    }
   ],
   "source": [
    "def manual_argmax(list1):\n",
    "    maximum= list1[0]\n",
    "    max_index=0\n",
    "    for i in range(len(list1)):\n",
    "        if maximum < list1[i]:\n",
    "            maximum = list1[i]\n",
    "            max_index=i\n",
    "    return max_index\n",
    "\n",
    "def numpy_argmax(array1):\n",
    "    return np.argmax(array1)\n",
    "\n",
    "manual_result = manual_argmax(list1)\n",
    "numpy_result = numpy_argmax(array1)\n",
    "\n",
    "print(f\"Manual Argmax Result: {manual_result}\")\n",
    "print(f\"Numpy Argmax Result: {numpy_result}\")"
   ]
  },
  {
   "cell_type": "code",
   "execution_count": 27,
   "metadata": {},
   "outputs": [
    {
     "name": "stdout",
     "output_type": "stream",
     "text": [
      "Manual Dot Product Result: 32\n",
      "Numpy Dot Product Result: 32\n"
     ]
    }
   ],
   "source": [
    "def manual_dot(list1, list2):\n",
    "    result = 0\n",
    "    for i in range(len(list1)):\n",
    "        result += (list1[i] * list2[i])\n",
    "    return result\n",
    "\n",
    "def numpy_dot(array1, array2):\n",
    "    return np.dot(array1,array2)\n",
    "\n",
    "manual_result = manual_dot(list1, list2)\n",
    "numpy_result = numpy_dot(array1, array2)\n",
    "\n",
    "print(f\"Manual Dot Product Result: {manual_result}\")\n",
    "print(f\"Numpy Dot Product Result: {numpy_result}\")"
   ]
  },
  {
   "cell_type": "code",
   "execution_count": 28,
   "metadata": {},
   "outputs": [
    {
     "name": "stdout",
     "output_type": "stream",
     "text": [
      "Manual Cross Product Result: [-3, 6, -3]\n",
      "Numpy Cross Product Result: [-3  6 -3]\n"
     ]
    }
   ],
   "source": [
    "def manual_cross(list1, list2):\n",
    "    \"\"\"manual_cross\n",
    "    list1: type = list\n",
    "    list2: type = list\n",
    "    manual_cross = (a2*b3 - a3*b2)i + (a3*b1 - a1*b3)j + (a1*b2 - a2*b1)K\n",
    "    \"\"\"\n",
    "    cross_2_list = len(list1)\n",
    "    c = []\n",
    "    for i in range(cross_2_list):\n",
    "        c.append(0)\n",
    "        for j in range(cross_2_list):\n",
    "          if j != i:\n",
    "            for k in range(cross_2_list):\n",
    "              if k != i:\n",
    "                if k > j:\n",
    "                  c[i] += list1[j]* list2[k]\n",
    "                elif k < j:\n",
    "                  c[i] -= list1[j]* list2[k]\n",
    "    # manual_cross = (a2*b3 - a3*b2)i + (a3*b1 - a1*b3)j + (a1*b2 - a2*b1)K\n",
    "    # if i odd number = ( / - \\ )\n",
    "    # if i even number = ( \\ - / )\n",
    "        if (i%2)!=0:\n",
    "          c[i]=c[i]*(-1)\n",
    "    return c\n",
    "\n",
    "def numpy_cross(array1, array2):\n",
    "    return np.cross(array1,array2)\n",
    "\n",
    "list1 = [1, 2, 3]\n",
    "list2 = [4, 5, 6]\n",
    "array1 = np.array(list1)\n",
    "array2 = np.array(list2)\n",
    "\n",
    "manual_result = manual_cross(list1, list2)\n",
    "numpy_result = numpy_cross(array1, array2)\n",
    "\n",
    "print(f\"Manual Cross Product Result: {manual_result}\")\n",
    "print(f\"Numpy Cross Product Result: {numpy_result}\")"
   ]
  },
  {
   "cell_type": "code",
   "execution_count": 29,
   "metadata": {},
   "outputs": [
    {
     "name": "stdout",
     "output_type": "stream",
     "text": [
      " working process i =0 and  j =1 :  [1, 3, 4, 1, 5, 9]\n",
      " working process i =0 and  j =3 :  [1, 3, 4, 1, 5, 9]\n",
      " working process i =1 and  j =3 :  [1, 1, 4, 3, 5, 9]\n",
      " working process i =2 and  j =3 :  [1, 1, 3, 4, 5, 9]\n",
      "----------------------[output]------------------------\n",
      "Manual Sort Result: [1, 1, 3, 4, 5, 9]\n",
      "Numpy Sort Result: [1 1 3 4 5 9]\n"
     ]
    }
   ],
   "source": [
    "def manual_sort(list1):\n",
    "    sorted_list = list1\n",
    "    for i in range(len(sorted_list)):\n",
    "        for j in range(i+1, len(sorted_list)):\n",
    "            if sorted_list[i] >= sorted_list[j]:\n",
    "                # Replace sorted_list[i] with sorted_list[j]\n",
    "                # Replace sorted_list[j] with sorted_list[i]\n",
    "                # It must be written in one line because it destroys the data\n",
    "                sorted_list[i], sorted_list[j] = sorted_list[j],sorted_list[i]\n",
    "                print(f\" working process i ={i} and  j ={j} :  {sorted_list}\")\n",
    "    return sorted_list\n",
    "\n",
    "def numpy_sort(array1):\n",
    "    return np.sort(array1)\n",
    "\n",
    "list1 = [3, 1, 4, 1, 5, 9]\n",
    "array1 = np.array(list1)\n",
    "\n",
    "manual_result = manual_sort(list1)\n",
    "numpy_result = numpy_sort(array1)\n",
    "print(\"----------------------[output]------------------------\")\n",
    "print(f\"Manual Sort Result: {manual_result}\")\n",
    "print(f\"Numpy Sort Result: {numpy_result}\")"
   ]
  },
  {
   "cell_type": "code",
   "execution_count": 30,
   "metadata": {},
   "outputs": [
    {
     "name": "stdout",
     "output_type": "stream",
     "text": [
      "Manual Concatenate Result: [1, 2, 3, 4, 5, 6]\n",
      "Numpy Concatenate Result: [1 2 3 4 5 6]\n"
     ]
    }
   ],
   "source": [
    "def manual_concatenate(list1, list2)-> list:\n",
    "    \"\"\"manual_concatenate\n",
    "    list1: type = list\n",
    "    list2: type = list\n",
    "    manual_concatenate: [list1 , list2]\n",
    "    \"\"\"\n",
    "    result=list1\n",
    "    for i in range(len(list2)):\n",
    "        result.append(list2[i])\n",
    "    return result\n",
    "\n",
    "def numpy_concatenate(array1, array2):\n",
    "    \"\"\"manual_concatenate\n",
    "    array1: type = array\n",
    "    array2: type = array\n",
    "    numpy_concatenate: [array1 , array2]\n",
    "    \"\"\"\n",
    "    return np.concatenate((array1,array2), axis=0)\n",
    "\n",
    "list1 = [1, 2, 3]\n",
    "list2 = [4, 5, 6]\n",
    "array1 = np.array(list1)\n",
    "array2 = np.array(list2)\n",
    "\n",
    "manual_result = manual_concatenate(list1, list2)\n",
    "numpy_result = numpy_concatenate(array1, array2)\n",
    "\n",
    "print(f\"Manual Concatenate Result: {manual_result}\")\n",
    "print(f\"Numpy Concatenate Result: {numpy_result}\")"
   ]
  },
  {
   "cell_type": "markdown",
   "metadata": {},
   "source": [
    "## Part 2\n",
    "\n",
    "You are part of a data analytics team at a retail company, and you have been given the task of analyzing sales data to identify trends and patterns. However, before you can leverage powerful libraries like Numpy, your team wants to ensure you understand the underlying operations by implementing basic data analysis functions from scratch. You can use your custom implementations of Numpy functions to analyze a middle-sized dataset if you wish."
   ]
  },
  {
   "cell_type": "code",
   "execution_count": 31,
   "metadata": {},
   "outputs": [],
   "source": [
    "sales_data = [\n",
    "    {\"product\": \"A\", \"region\": \"North\", \"units_sold\": 150, \"unit_price\": 10.0},\n",
    "    {\"product\": \"B\", \"region\": \"South\", \"units_sold\": 200, \"unit_price\": 20.0},\n",
    "    {\"product\": \"C\", \"region\": \"East\", \"units_sold\": 300, \"unit_price\": 15.0},\n",
    "    {\"product\": \"A\", \"region\": \"West\", \"units_sold\": 130, \"unit_price\": 10.0},\n",
    "    {\"product\": \"B\", \"region\": \"North\", \"units_sold\": 120, \"unit_price\": 20.0},\n",
    "    {\"product\": \"C\", \"region\": \"South\", \"units_sold\": 250, \"unit_price\": 15.0},\n",
    "    {\"product\": \"A\", \"region\": \"East\", \"units_sold\": 170, \"unit_price\": 10.0},\n",
    "    {\"product\": \"B\", \"region\": \"West\", \"units_sold\": 180, \"unit_price\": 20.0},\n",
    "    {\"product\": \"C\", \"region\": \"North\", \"units_sold\": 310, \"unit_price\": 15.0},\n",
    "    {\"product\": \"A\", \"region\": \"South\", \"units_sold\": 160, \"unit_price\": 10.0},\n",
    "    {\"product\": \"B\", \"region\": \"East\", \"units_sold\": 190, \"unit_price\": 20.0},\n",
    "    {\"product\": \"C\", \"region\": \"West\", \"units_sold\": 280, \"unit_price\": 15.0},\n",
    "]"
   ]
  },
  {
   "cell_type": "markdown",
   "metadata": {},
   "source": [
    "### Task 1\n",
    "\n",
    "Calculate Total Revenue per Product:\n",
    "\n",
    "Implement a function to calculate the total revenue for each product."
   ]
  },
  {
   "cell_type": "code",
   "execution_count": 32,
   "metadata": {},
   "outputs": [
    {
     "name": "stdout",
     "output_type": "stream",
     "text": [
      "Total Revenue (Manual): {'A': 6100.0, 'B': 13800.0, 'C': 17100.0}\n"
     ]
    }
   ],
   "source": [
    "def manual_total_revenue(sales_data):\n",
    "    \"\"\"manual_total_revenue\n",
    "    sales_data: type = dict\n",
    "    revenue_dict: type = dict\n",
    "    manual_total_revenue: total price per region\n",
    "    \"\"\"\n",
    "    revenue_dict={}\n",
    "    a=[]\n",
    "    for i in range(len(sales_data)):\n",
    "        a.append(sales_data[i][\"product\"])\n",
    "    # Delete duplicate data in the key\n",
    "    key = [i for n, i in enumerate(a) if i not in a[:n]]\n",
    "    for j in range(len(key)):\n",
    "        b=0\n",
    "        for i in range(len(sales_data)):\n",
    "            if sales_data[i][\"product\"] == key[j]:\n",
    "                b+= sales_data[i][\"unit_price\"]* sales_data[i][\"units_sold\"]\n",
    "        revenue_dict[key[j]]=b            \n",
    "    return revenue_dict\n",
    "\n",
    "total_revenue_manual = manual_total_revenue(sales_data)\n",
    "print(f\"Total Revenue (Manual): {total_revenue_manual}\")"
   ]
  },
  {
   "cell_type": "markdown",
   "metadata": {},
   "source": [
    "### Task 2\n",
    "\n",
    "Find the Average Units Sold per Region:\n",
    "\n",
    "Implement a function to compute the average units sold in each region."
   ]
  },
  {
   "cell_type": "code",
   "execution_count": 33,
   "metadata": {},
   "outputs": [
    {
     "name": "stdout",
     "output_type": "stream",
     "text": [
      "key   =    ['North', 'South', 'East', 'West']\n",
      "in ragion  North : sum solt = 8550.0  and count solt 3\n",
      "in ragion  South : sum solt = 9350.0  and count solt 3\n",
      "in ragion  East : sum solt = 10000.0  and count solt 3\n",
      "in ragion  West : sum solt = 9100.0  and count solt 3\n",
      "Average Units Sold per Region (Manual): {'North': 2850.0, 'South': 3116.6666666666665, 'East': 3333.3333333333335, 'West': 3033.3333333333335}\n"
     ]
    }
   ],
   "source": [
    "def manual_average_units_sold(sales_data):\n",
    "    \"\"\"manual_average_units_sold\n",
    "    sales_data: type = dict\n",
    "    revenue_dict: type = dict\n",
    "    manual_total_revenue: avrage price per region\n",
    "    \"\"\"\n",
    "    region_dict = {}\n",
    "    a=[]\n",
    "    for i in range(len(sales_data)):\n",
    "        a.append(sales_data[i][\"region\"])\n",
    "    # Delete duplicate data in the key\n",
    "    key = [i for n, i in enumerate(a) if i not in a[:n]]\n",
    "    print(\"key   =   \",key)\n",
    "    for j in range(len(key)):\n",
    "        b=0\n",
    "        count=0\n",
    "        for i in range(len(sales_data)):\n",
    "            if sales_data[i][\"region\"] == key[j]:\n",
    "                b+= sales_data[i][\"unit_price\"]* sales_data[i][\"units_sold\"]\n",
    "                count+=1\n",
    "        avrage_each_group= b/count\n",
    "        print(f\"in ragion  {key[j]} : sum solt = {b}  and count solt {count}\")\n",
    "        region_dict[key[j]]=avrage_each_group\n",
    "    return region_dict\n",
    "\n",
    "average_units_sold_manual = manual_average_units_sold(sales_data)\n",
    "print(f\"Average Units Sold per Region (Manual): {average_units_sold_manual}\")"
   ]
  },
  {
   "cell_type": "markdown",
   "metadata": {},
   "source": [
    "### Task 3\n",
    "\n",
    "Identify the Product with the Highest Sales:\n",
    "\n",
    "Implement a function to determine which product has the highest total units sold."
   ]
  },
  {
   "cell_type": "code",
   "execution_count": 34,
   "metadata": {},
   "outputs": [
    {
     "name": "stdout",
     "output_type": "stream",
     "text": [
      "Product with Highest Sales (Manual): {'C': 17100.0}\n"
     ]
    }
   ],
   "source": [
    "def manual_highest_sales_product(sales_data):\n",
    "    \"\"\"manual_highest_sales_product\n",
    "    sales_data: type = dict\n",
    "    highest_sales_product: type = dict\n",
    "    in the 1st find total solt each product\n",
    "    in 2nd make 2 list with keys and values of revenue dict\n",
    "    in the 3nd find minimum total salt with index of keyword\n",
    "    in the 4th highest_sales_product_manual\n",
    "    \"\"\"\n",
    "    highest_sales_product_manual={}\n",
    "    revenue_dict={}\n",
    "    a=[]\n",
    "    for i in range(len(sales_data)):\n",
    "        a.append(sales_data[i][\"product\"])\n",
    "    key = [i for n, i in enumerate(a) if i not in a[:n]]\n",
    "    for j in range(len(key)):\n",
    "        b=0\n",
    "        for i in range(len(sales_data)):\n",
    "            if sales_data[i][\"product\"] == key[j]:\n",
    "                b+= sales_data[i][\"unit_price\"]* sales_data[i][\"units_sold\"]\n",
    "        revenue_dict[key[j]]=b \n",
    "    #-----------------------------------------------\n",
    "    maximum_per_product=list(revenue_dict.values())\n",
    "    key_revenue_dict=list(revenue_dict.keys())\n",
    "    maximum= maximum_per_product[0]\n",
    "    max_index=0\n",
    "    for i in range(len(maximum_per_product)):\n",
    "        if maximum < maximum_per_product[i]:\n",
    "         maximum = maximum_per_product[i]\n",
    "         min_index=i\n",
    "    highest_sales_product_manual[key_revenue_dict[min_index]]=maximum\n",
    "    return highest_sales_product_manual\n",
    "\n",
    "highest_sales_product_manual = manual_highest_sales_product(sales_data)\n",
    "print(f\"Product with Highest Sales (Manual): {highest_sales_product_manual}\")"
   ]
  },
  {
   "cell_type": "markdown",
   "metadata": {},
   "source": [
    "### Task 4\n",
    "\n",
    "Calculate the Standard Deviation of Units Sold per Product:\n",
    "\n",
    "Implement a function to compute the standard deviation of units sold for each product.\n"
   ]
  },
  {
   "cell_type": "code",
   "execution_count": 38,
   "metadata": {},
   "outputs": [
    {
     "name": "stdout",
     "output_type": "stream",
     "text": [
      "Standard Deviation of Units Sold per Product (Manual): {'A': 147.9019945774904, 'B': 147.9019945774904, 'C': 147.9019945774904}\n"
     ]
    }
   ],
   "source": [
    "def manual_std_units_sold(sales_data):    \n",
    "    std_dict = {}\n",
    "    a=[]\n",
    "    for i in range(len(sales_data)):\n",
    "        a.append(sales_data[i][\"product\"])\n",
    "    # Delete duplicate data in the key\n",
    "    key = [i for n, i in enumerate(a) if i not in a[:n]]\n",
    "    value=[]\n",
    "    for j in range(len(key)):\n",
    "        b=[]\n",
    "        for i in range(len(sales_data)):\n",
    "            if sales_data[i][\"product\"] == key[j]:\n",
    "                b.append(sales_data[i][\"unit_price\"]* sales_data[i][\"units_sold\"])\n",
    "        value.append(b)\n",
    "    for i in range(len(key)):\n",
    "        # manual_std This record is written\n",
    "        std_dict[key[i]]=manual_std(value[0])\n",
    "    return std_dict\n",
    "\n",
    "std_units_sold_manual = manual_std_units_sold(sales_data)\n",
    "print(f\"Standard Deviation of Units Sold per Product (Manual): {std_units_sold_manual}\")"
   ]
  },
  {
   "cell_type": "markdown",
   "metadata": {},
   "source": [
    "### Task 5\n",
    "\n",
    "Sort the Products by Total Revenue:\n",
    "\n",
    "Implement a function to sort the products based on their total revenue in descending order."
   ]
  },
  {
   "cell_type": "code",
   "execution_count": 39,
   "metadata": {},
   "outputs": [
    {
     "name": "stdout",
     "output_type": "stream",
     "text": [
      "-----keyword Before sort ['A', 'B', 'C']----- \n",
      "-----value Before sort [6100.0, 13800.0, 17100.0]----- \n",
      "-----value after sort [6100.0, 13800.0, 17100.0]----- \n",
      "-_-_-_-_-_-_-_-_-_-_-_-_ RUN -_-_-_-_-_-_-_-_-_-_-_-_\n",
      "Products Sorted by Total Revenue (Manual): {'A': 6100.0, 'B': 13800.0, 'C': 17100.0}\n"
     ]
    }
   ],
   "source": [
    "def manual_sort_products_by_revenue(sales_data):\n",
    "    sorted_products={}\n",
    "    total_revenue=manual_total_revenue(sales_data)\n",
    "    keyword=list(total_revenue.keys())\n",
    "    value=list(total_revenue.values())\n",
    "    value_sort=value.copy()\n",
    "    x=manual_sort(value_sort)\n",
    "    print(f\"-----keyword Before sort {keyword}----- \")\n",
    "    print(f\"-----value Before sort {value}----- \")\n",
    "    print(f\"-----value after sort {x}----- \")\n",
    "    index=[]\n",
    "    for i in range(len(x)):\n",
    "        for j in range(len(value)):\n",
    "            if x[i]==value[j]:\n",
    "                index.append(j)\n",
    "    for k in range(len(value)):\n",
    "        sorted_products[keyword[index[k]]]=x[k]\n",
    "    return sorted_products\n",
    "\n",
    "sorted_products_manual = manual_sort_products_by_revenue(sales_data)\n",
    "print(\"-_-_-_-_-_-_-_-_-_-_-_-_ RUN -_-_-_-_-_-_-_-_-_-_-_-_\")\n",
    "print(f\"Products Sorted by Total Revenue (Manual): {sorted_products_manual}\")"
   ]
  }
 ],
 "metadata": {
  "kernelspec": {
   "display_name": "conda_env",
   "language": "python",
   "name": "python3"
  },
  "language_info": {
   "codemirror_mode": {
    "name": "ipython",
    "version": 3
   },
   "file_extension": ".py",
   "mimetype": "text/x-python",
   "name": "python",
   "nbconvert_exporter": "python",
   "pygments_lexer": "ipython3",
   "version": "3.12.3"
  }
 },
 "nbformat": 4,
 "nbformat_minor": 2
}
